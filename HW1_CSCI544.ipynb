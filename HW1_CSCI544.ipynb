{
  "cells": [
    {
      "cell_type": "code",
      "source": [
        "!pip install contractions"
      ],
      "metadata": {
        "id": "OOjvQeAvmuOl"
      },
      "execution_count": null,
      "outputs": []
    },
    {
      "cell_type": "code",
      "execution_count": null,
      "metadata": {
        "id": "WrCNU0NwUBtv"
      },
      "outputs": [],
      "source": [
        "import pandas as pd\n",
        "import numpy as np\n",
        "import nltk\n",
        "import re\n",
        "from bs4 import BeautifulSoup\n",
        "import string\n",
        "import contractions\n",
        "from sklearn.model_selection import train_test_split\n",
        "from sklearn.model_selection import KFold, cross_val_score\n",
        "from sklearn.model_selection import GridSearchCV\n",
        "from sklearn.metrics import precision_recall_fscore_support as scores\n",
        "from sklearn.metrics import classification_report"
      ]
    },
    {
      "cell_type": "code",
      "source": [
        "nltk.download('wordnet')"
      ],
      "metadata": {
        "id": "z6OgugcRmopk"
      },
      "execution_count": null,
      "outputs": []
    },
    {
      "cell_type": "code",
      "source": [
        "from google.colab import drive\n",
        "drive.mount('/content/drive')"
      ],
      "metadata": {
        "id": "bfHtlH3AUESO"
      },
      "execution_count": null,
      "outputs": []
    },
    {
      "cell_type": "code",
      "execution_count": null,
      "metadata": {
        "id": "SKoiajowUBt1"
      },
      "outputs": [],
      "source": [
        "# ! pip install bs4 # in case you don't have it installed\n",
        "\n",
        "# # Dataset: https://s3.amazonaws.com/amazon-reviews-pds/tsv/amazon_reviews_us_Beauty_v1_00.tsv.gz"
      ]
    },
    {
      "cell_type": "markdown",
      "metadata": {
        "id": "vUlngR7LUBt3"
      },
      "source": [
        "## Read Data"
      ]
    },
    {
      "cell_type": "code",
      "source": [
        "pd.set_option(\"display.max_colwidth\", 200)"
      ],
      "metadata": {
        "id": "gRecl7TUZv0Y"
      },
      "execution_count": null,
      "outputs": []
    },
    {
      "cell_type": "code",
      "execution_count": null,
      "metadata": {
        "id": "1J30Tu5EUBt5"
      },
      "outputs": [],
      "source": [
        " data= pd.read_csv(\"drive/MyDrive/amazon_reviews_us_Beauty_v1_00.tsv\", sep = '\\t', on_bad_lines= 'skip')"
      ]
    },
    {
      "cell_type": "code",
      "source": [
        "data.head()"
      ],
      "metadata": {
        "id": "jJIcD7BUW6Mg"
      },
      "execution_count": null,
      "outputs": []
    },
    {
      "cell_type": "markdown",
      "metadata": {
        "id": "kyJIGwtJUBt6"
      },
      "source": [
        "## Keep Reviews and Ratings"
      ]
    },
    {
      "cell_type": "code",
      "execution_count": null,
      "metadata": {
        "id": "UMW07bnkUBt8"
      },
      "outputs": [],
      "source": [
        " data = data[[\"review_body\", \"star_rating\"]]"
      ]
    },
    {
      "cell_type": "markdown",
      "source": [
        "###Missing Values"
      ],
      "metadata": {
        "id": "8H-3f96Fy72j"
      }
    },
    {
      "cell_type": "code",
      "source": [
        "data.head()"
      ],
      "metadata": {
        "id": "7ihQ5GaNnFJV"
      },
      "execution_count": null,
      "outputs": []
    },
    {
      "cell_type": "markdown",
      "source": [
        "####stars"
      ],
      "metadata": {
        "id": "RRh4Qe7U6eUu"
      }
    },
    {
      "cell_type": "code",
      "source": [
        " data.dropna(subset = [\"star_rating\"], inplace= True)\n",
        " data[\"star_rating\"].isnull().sum()"
      ],
      "metadata": {
        "id": "Hiv4TR0pxUPM"
      },
      "execution_count": null,
      "outputs": []
    },
    {
      "cell_type": "code",
      "source": [
        "data[data[\"review_body\"].isna()].shape"
      ],
      "metadata": {
        "id": "HcG7QYUylxc_"
      },
      "execution_count": null,
      "outputs": []
    },
    {
      "cell_type": "code",
      "source": [
        "def splitting(text):\n",
        "  text = str(text)\n",
        "  text = text[0]\n",
        "  return text\n",
        "\n",
        "data[\"star_rating\"] =data[\"star_rating\"].apply(lambda x : splitting(x))"
      ],
      "metadata": {
        "id": "b0yrErH-5WMr"
      },
      "execution_count": null,
      "outputs": []
    },
    {
      "cell_type": "code",
      "source": [
        "def change_type(text):\n",
        "  text = int(text)\n",
        "  return text\n",
        "\n",
        "data['star_rating'] = data[\"star_rating\"].apply(lambda x: change_type(x))\n",
        "  "
      ],
      "metadata": {
        "id": "KKEMRM9l4joJ"
      },
      "execution_count": null,
      "outputs": []
    },
    {
      "cell_type": "code",
      "source": [
        "def typ(text):\n",
        "  if type(text)!=int:\n",
        "    print(type(text), text)\n",
        "data[\"star_rating\"].apply(lambda x : typ(x))\n"
      ],
      "metadata": {
        "id": "4xrEBnwm6Az7"
      },
      "execution_count": null,
      "outputs": []
    },
    {
      "cell_type": "markdown",
      "source": [
        "####reviews"
      ],
      "metadata": {
        "id": "JK36A5tR6g21"
      }
    },
    {
      "cell_type": "code",
      "source": [
        "data.dropna(subset =[\"review_body\"], inplace = True)\n",
        "data[\"review_body\"].isna().sum()"
      ],
      "metadata": {
        "id": "1bokvDRS6iaG"
      },
      "execution_count": null,
      "outputs": []
    },
    {
      "cell_type": "markdown",
      "metadata": {
        "id": "IUi3SHrXUBt9"
      },
      "source": [
        " ## We form three classes and select 20000 reviews randomly from each class.\n",
        "\n"
      ]
    },
    {
      "cell_type": "code",
      "execution_count": null,
      "metadata": {
        "id": "F619PyubUBt9"
      },
      "outputs": [],
      "source": [
        "data_1 = data[data['star_rating']==1]\n",
        "data_1 = data_1.append(data[data['star_rating']==2])\n",
        "data_1[\"class\"] = 1\n",
        "data_1 = data_1.sample(n=20000)"
      ]
    },
    {
      "cell_type": "code",
      "source": [
        "data_2 = data[data['star_rating']==3]\n",
        "data_2 = data_2.append(data[data['star_rating']==4])\n",
        "data_2[\"class\"] = 2\n",
        "data_2 = data_2.sample(n=20000)\n",
        "data_1 = data_1.append(data_2)"
      ],
      "metadata": {
        "id": "q3YJMFHjetpC"
      },
      "execution_count": null,
      "outputs": []
    },
    {
      "cell_type": "code",
      "source": [
        "data_3 = data[data['star_rating']==5]\n",
        "data_3[\"class\"] = 3\n",
        "data_3 = data_3.sample(n=20000)\n",
        "data_1 = data_1.append(data_3)"
      ],
      "metadata": {
        "id": "Zlr4DsQce39J"
      },
      "execution_count": null,
      "outputs": []
    },
    {
      "cell_type": "code",
      "source": [
        "df = data_1"
      ],
      "metadata": {
        "id": "H1OFZdu5ismC"
      },
      "execution_count": null,
      "outputs": []
    },
    {
      "cell_type": "code",
      "source": [
        "df.head()\n",
        "df.shape"
      ],
      "metadata": {
        "id": "eztnyMRBe_2a"
      },
      "execution_count": null,
      "outputs": []
    },
    {
      "cell_type": "code",
      "source": [
        "'''\n",
        "df = pd.read_csv(\"cleaned.csv\")\n",
        "df.head()'''"
      ],
      "metadata": {
        "id": "Od1rU4SQ8F-Q"
      },
      "execution_count": null,
      "outputs": []
    },
    {
      "cell_type": "markdown",
      "metadata": {
        "id": "DxMAaksLUBt-"
      },
      "source": [
        "# Data Cleaning\n",
        "\n"
      ]
    },
    {
      "cell_type": "code",
      "source": [
        "df.head()"
      ],
      "metadata": {
        "id": "7CWk01W7DIYT"
      },
      "execution_count": null,
      "outputs": []
    },
    {
      "cell_type": "code",
      "source": [
        "cnt_b_clean = (df[\"review_body\"].str.len()).mean()"
      ],
      "metadata": {
        "id": "6sv7pudn3B1T"
      },
      "execution_count": null,
      "outputs": []
    },
    {
      "cell_type": "markdown",
      "source": [
        "###Removing Contractions\n"
      ],
      "metadata": {
        "id": "K_3zpNTUhjqh"
      }
    },
    {
      "cell_type": "code",
      "source": [
        "#df = pd.read_csv(\"drive/MyDrive/cleaned.csv\")\n",
        "df.shape"
      ],
      "metadata": {
        "id": "0lh88tQW8zwb"
      },
      "execution_count": null,
      "outputs": []
    },
    {
      "cell_type": "code",
      "source": [
        "df[\"review_body\"]"
      ],
      "metadata": {
        "id": "49RPUIB7DEUQ"
      },
      "execution_count": null,
      "outputs": []
    },
    {
      "cell_type": "code",
      "source": [
        "df[\"contracted_reviews\"] = df[\"review_body\"].apply(lambda x : contractions.fix(x) )\n",
        "df = df.drop([\"review_body\", 'star_rating'], axis =1)\n",
        "df.head()"
      ],
      "metadata": {
        "id": "cGCbH-F6FgSK"
      },
      "execution_count": null,
      "outputs": []
    },
    {
      "cell_type": "code",
      "source": [
        "cnt_a_clean = (df[\"contracted_reviews\"].str.len()).mean()"
      ],
      "metadata": {
        "id": "fJrF2B5L3k_k"
      },
      "execution_count": null,
      "outputs": []
    },
    {
      "cell_type": "code",
      "source": [
        "print('Average length of reviews before and after data cleaning:', cnt_b_clean, \",\", cnt_a_clean)"
      ],
      "metadata": {
        "id": "MPFcEamd3zCf"
      },
      "execution_count": null,
      "outputs": []
    },
    {
      "cell_type": "markdown",
      "metadata": {
        "id": "x3DZiSssUBuA"
      },
      "source": [
        "# Pre-processing"
      ]
    },
    {
      "cell_type": "code",
      "source": [
        "cnt_b_pp = (df[\"contracted_reviews\"].str.len()).mean()"
      ],
      "metadata": {
        "id": "4evbDdrU27iX"
      },
      "execution_count": null,
      "outputs": []
    },
    {
      "cell_type": "markdown",
      "metadata": {
        "id": "ERJjKNbKUBuB"
      },
      "source": [
        "## remove the stop words "
      ]
    },
    {
      "cell_type": "code",
      "execution_count": null,
      "metadata": {
        "id": "g6nQmc73UBuC"
      },
      "outputs": [],
      "source": [
        "from nltk.corpus import stopwords\n",
        "nltk.download('stopwords')\n",
        "stopword = stopwords.words(\"english\")\n",
        "stopwords = stopwords.words('french')\n",
        "stopword.append(stopwords)"
      ]
    },
    {
      "cell_type": "markdown",
      "source": [
        "###Stemming"
      ],
      "metadata": {
        "id": "bhOpxIcknClM"
      }
    },
    {
      "cell_type": "code",
      "source": [
        "ps = nltk.PorterStemmer()"
      ],
      "metadata": {
        "id": "Nh2qc4FFyAnO"
      },
      "execution_count": null,
      "outputs": []
    },
    {
      "cell_type": "markdown",
      "metadata": {
        "id": "aautukpvUBuD"
      },
      "source": [
        "## perform lemmatization  "
      ]
    },
    {
      "cell_type": "code",
      "source": [
        "nltk.download('omw-1.4')"
      ],
      "metadata": {
        "id": "HPP0zkJOnOFV"
      },
      "execution_count": null,
      "outputs": []
    },
    {
      "cell_type": "code",
      "execution_count": null,
      "metadata": {
        "id": "E6vcnNeUUBuD"
      },
      "outputs": [],
      "source": [
        "from nltk.stem import WordNetLemmatizer\n",
        "wn = WordNetLemmatizer()"
      ]
    },
    {
      "cell_type": "code",
      "source": [
        "df[\"contracted_reviews\"]"
      ],
      "metadata": {
        "id": "Fo4BF-B7DtEc"
      },
      "execution_count": null,
      "outputs": []
    },
    {
      "cell_type": "code",
      "source": [
        "def clean_data(text):\n",
        "  text = \"\".join([char for char in text if char not in string.punctuation])\n",
        "  token = re.split(\"\\W+\", text)\n",
        "  words = [wn.lemmatize(word) for word in token if word not in stopword]\n",
        "  #words = [ps.stem(word) for word in words if word not in stopword]\n",
        "  return words"
      ],
      "metadata": {
        "id": "e948KTiHm_22"
      },
      "execution_count": null,
      "outputs": []
    },
    {
      "cell_type": "code",
      "source": [
        "df_temp = pd.DataFrame()\n",
        "df_temp[\"contracted_reviews\"]= df[\"contracted_reviews\"].apply(lambda x : clean_data(x))"
      ],
      "metadata": {
        "id": "ruGm4aqJ4IGK"
      },
      "execution_count": null,
      "outputs": []
    },
    {
      "cell_type": "code",
      "source": [
        "df_temp[\"contracted_reviews\"]"
      ],
      "metadata": {
        "id": "Tg5IFPTfEk6b"
      },
      "execution_count": null,
      "outputs": []
    },
    {
      "cell_type": "code",
      "source": [
        "cnt_a_pp = (df_temp[\"contracted_reviews\"].str.len()).mean()"
      ],
      "metadata": {
        "id": "hxADytbC4lqL"
      },
      "execution_count": null,
      "outputs": []
    },
    {
      "cell_type": "code",
      "source": [
        "print('Average length of reviews before and after data preprocessing:', cnt_b_pp, \",\", cnt_a_pp)"
      ],
      "metadata": {
        "id": "2pfKbuNz5KOV"
      },
      "execution_count": null,
      "outputs": []
    },
    {
      "cell_type": "code",
      "source": [
        "df_temp['class'] = df[\"class\"]\n",
        "df_temp[\"body_len\"] = df_temp[\"contracted_reviews\"].apply(lambda x : len(x) - x.count(\" \"))"
      ],
      "metadata": {
        "id": "3uwBs7udPxis"
      },
      "execution_count": null,
      "outputs": []
    },
    {
      "cell_type": "code",
      "source": [
        "df_temp.head()"
      ],
      "metadata": {
        "id": "kao5FB0DQEeu"
      },
      "execution_count": null,
      "outputs": []
    },
    {
      "cell_type": "code",
      "source": [
        "import matplotlib.pyplot as py"
      ],
      "metadata": {
        "id": "Tcxsj06dQed5"
      },
      "execution_count": null,
      "outputs": []
    },
    {
      "cell_type": "code",
      "source": [
        "bins = np.linspace(0,200,50)\n",
        "py.hist(df_temp[df_temp[\"class\"]==1][\"body_len\"], bins, alpha = 0.5, density = True, label= \"class 1\" )\n",
        "py.legend(loc = \"upper right\")\n",
        "py.plot()"
      ],
      "metadata": {
        "id": "2mVSRvMLQSC5"
      },
      "execution_count": null,
      "outputs": []
    },
    {
      "cell_type": "code",
      "source": [
        "py.hist(df_temp[df_temp[\"class\"]==2][\"body_len\"], bins, alpha = 0.5,  label= \"class 2\" )\n",
        "py.legend(loc = \"upper left\")\n",
        "py.plot()"
      ],
      "metadata": {
        "id": "gs0PO7WcRi0I"
      },
      "execution_count": null,
      "outputs": []
    },
    {
      "cell_type": "code",
      "source": [
        "py.hist(df_temp[df_temp[\"class\"]==3][\"body_len\"], bins, alpha = 0.5,  label= \"class 3\" )\n",
        "py.legend(loc = \"upper left\")\n",
        "py.plot()"
      ],
      "metadata": {
        "id": "HYMde60iRo4X"
      },
      "execution_count": null,
      "outputs": []
    },
    {
      "cell_type": "markdown",
      "metadata": {
        "id": "R000-nHlUBuF"
      },
      "source": [
        "# TF-IDF Feature Extraction"
      ]
    },
    {
      "cell_type": "code",
      "execution_count": null,
      "metadata": {
        "id": "zrI0U9KcUBuG"
      },
      "outputs": [],
      "source": [
        "from sklearn.feature_extraction.text import TfidfVectorizer\n",
        "tfidf = TfidfVectorizer(analyzer=clean_data)\n",
        "X_tf = tfidf.fit_transform(df[\"contracted_reviews\"])\n",
        "X_tf"
      ]
    },
    {
      "cell_type": "code",
      "source": [
        "X_train, X_test, Y_train, Y_test = train_test_split(X_tf, df[\"class\"], test_size=0.2)"
      ],
      "metadata": {
        "id": "3Nnk8LeItNf7"
      },
      "execution_count": null,
      "outputs": []
    },
    {
      "cell_type": "markdown",
      "metadata": {
        "id": "G2_MlNvmUBuH"
      },
      "source": [
        "# Perceptron"
      ]
    },
    {
      "cell_type": "markdown",
      "source": [
        "###Grid Search"
      ],
      "metadata": {
        "id": "7pKU_luHt8Db"
      }
    },
    {
      "cell_type": "code",
      "source": [
        "from sklearn.linear_model import Perceptron"
      ],
      "metadata": {
        "id": "uUltvfmdt3Ry"
      },
      "execution_count": null,
      "outputs": []
    },
    {
      "cell_type": "code",
      "source": [
        "\"\"\"\n",
        "def train_perceptron(pen, tol, s):\n",
        "  clf = Perceptron(penalty = pen,tol= tol, shuffle = s, n_jobs=-1)\n",
        "  clf.fit(X_train, Y_train)\n",
        "  y_pred = clf.predict(X_test)\n",
        "  precision, recall, fscore, support = scores(Y_test, y_pred)\n",
        "  print('Penalty : {} / Tol : {} / precision:{} / Recall:{} / Accuracy:{} / Avg_precision:{}'.format(pen, tol, precision, recall, (y_pred==Y_test).sum() / len(y_pred), np.mean(precision)))\n",
        "\"\"\""
      ],
      "metadata": {
        "id": "OMh7-UjOnUsH"
      },
      "execution_count": null,
      "outputs": []
    },
    {
      "cell_type": "code",
      "source": [
        "\"\"\"\n",
        "for pen in ['l1', 'l2','elasticnet', None]:\n",
        "  for tol in [0.1,0.01,0.5,0.05,None]:\n",
        "    for s in [True, False]:\n",
        "      train_perceptron(pen,tol,s)\n",
        "      \"\"\""
      ],
      "metadata": {
        "id": "YpzE2E35pz3m"
      },
      "execution_count": null,
      "outputs": []
    },
    {
      "cell_type": "code",
      "execution_count": null,
      "metadata": {
        "id": "SuaoopVvUBuI"
      },
      "outputs": [],
      "source": [
        "clf= Perceptron(penalty = None,tol= 0.01, shuffle = True, n_jobs=-1)\n",
        "clf.fit(X_train, Y_train)\n",
        "y_pred = clf.predict(X_test)\n",
        "precision, recall, fscore, support = scores(Y_test, y_pred)\n",
        "report = classification_report(Y_test, y_pred,output_dict=True)"
      ]
    },
    {
      "cell_type": "code",
      "source": [
        "from sklearn.metrics import accuracy_score\n",
        "accuracy_score( Y_test,y_pred)"
      ],
      "metadata": {
        "id": "3v5viIKxJ1y1"
      },
      "execution_count": null,
      "outputs": []
    },
    {
      "cell_type": "code",
      "source": [
        "print(str(report['1']['precision'])+\",\"+str(report['1']['recall'])+\",\"+str(report['1']['f1-score']))\n",
        "print(str(report['2']['precision'])+\",\"+str(report['2']['recall'])+\",\"+str(report['2']['f1-score']))\n",
        "print(str(report['3']['precision'])+\",\"+str(report['3']['recall'])+\",\"+str(report['3']['f1-score']))\n",
        "print(str(report['weighted avg']['precision'])+\",\"+str(report['weighted avg']['recall'])+\",\"+str(report['weighted avg']['f1-score']))"
      ],
      "metadata": {
        "id": "ivfqo4OfzPs0"
      },
      "execution_count": null,
      "outputs": []
    },
    {
      "cell_type": "markdown",
      "metadata": {
        "id": "WD4CpRq8UBuI"
      },
      "source": [
        "# SVM"
      ]
    },
    {
      "cell_type": "code",
      "execution_count": null,
      "metadata": {
        "id": "lBkiQ5YPUBuI"
      },
      "outputs": [],
      "source": [
        "from sklearn.svm import LinearSVC"
      ]
    },
    {
      "cell_type": "code",
      "source": [
        "'''\n",
        "def train_svm(k, tol):\n",
        "  clf = SVC(tol= tol)\n",
        "  clf.fit(X_train, Y_train)\n",
        "  y_pred = clf.predict(X_test)\n",
        "  precision, recall, fscore, support = scores(Y_test, y_pred)\n",
        "  print('Kernel : {} / Tol : {} / precision:{} / Recall:{} / Accuracy:{}'.format(k, tol, precision, recall, (y_pred==Y_test).sum() / len(y_pred)))\n",
        "  '''\n"
      ],
      "metadata": {
        "id": "vuIgToqzvnsz"
      },
      "execution_count": null,
      "outputs": []
    },
    {
      "cell_type": "code",
      "source": [
        "'''\n",
        "for k in ['linear','poly', 'sigmoid','rbf','precomputed']:\n",
        "  for tol in [0.1,0.01]:\n",
        "    train_svm(k,tol)'''"
      ],
      "metadata": {
        "id": "p0vzTizgzirf"
      },
      "execution_count": null,
      "outputs": []
    },
    {
      "cell_type": "code",
      "source": [
        "clf = LinearSVC(tol= 0.1)\n",
        "clf.fit(X_train, Y_train)\n",
        "y_pred = clf.predict(X_test)\n",
        "report = classification_report(Y_test, y_pred,output_dict=True)"
      ],
      "metadata": {
        "id": "BsiX-Gr5AN71"
      },
      "execution_count": null,
      "outputs": []
    },
    {
      "cell_type": "code",
      "source": [
        "accuracy_score( Y_test,y_pred)"
      ],
      "metadata": {
        "id": "vQ-aBOM8KN6v"
      },
      "execution_count": null,
      "outputs": []
    },
    {
      "cell_type": "code",
      "source": [
        "print(str(report['1']['precision'])+\",\"+str(report['1']['recall'])+\",\"+str(report['1']['f1-score']))\n",
        "print(str(report['2']['precision'])+\",\"+str(report['2']['recall'])+\",\"+str(report['2']['f1-score']))\n",
        "print(str(report['3']['precision'])+\",\"+str(report['3']['recall'])+\",\"+str(report['3']['f1-score']))\n",
        "print(str(report['weighted avg']['precision'])+\",\"+str(report['weighted avg']['recall'])+\",\"+str(report['weighted avg']['f1-score']))"
      ],
      "metadata": {
        "id": "vvMUEFyj1eFa"
      },
      "execution_count": null,
      "outputs": []
    },
    {
      "cell_type": "markdown",
      "metadata": {
        "id": "8d6GKv6nUBuJ"
      },
      "source": [
        "# Logistic Regression"
      ]
    },
    {
      "cell_type": "code",
      "execution_count": null,
      "metadata": {
        "id": "jRbvCVYcUBuJ"
      },
      "outputs": [],
      "source": [
        "from sklearn.linear_model import LogisticRegression\n",
        "clf = LogisticRegression()"
      ]
    },
    {
      "cell_type": "code",
      "source": [
        "\"\"\"\n",
        "def train_lr(pen,s):\n",
        "  clf = LogisticRegression(penalty= pen, solver = s)\n",
        "  clf.fit(X_train, Y_train)\n",
        "  y_pred = clf.predict(X_test)\n",
        "  precision, recall, fscore, support = scores(Y_test, y_pred)\n",
        "  print('Penalty:{} / Solver : {} / precision:{} / Recall:{} / Accuracy:{} / Avg_precision:{}'.format(pen,s,  precision, recall, (y_pred==Y_test).sum() / len(y_pred), np.mean(precision)))\n",
        "\"\"\""
      ],
      "metadata": {
        "id": "i5WWj3qu0ZGL"
      },
      "execution_count": null,
      "outputs": []
    },
    {
      "cell_type": "code",
      "source": [
        "\"\"\"\n",
        "for solver in ['lbfgs', 'liblinear','newton-cg','sag','saga']:\n",
        "  for pen in [ \"l2\"]:\n",
        "      train_lr(pen,solver)\n",
        "      \"\"\""
      ],
      "metadata": {
        "id": "stdMrDy4p4DW"
      },
      "execution_count": null,
      "outputs": []
    },
    {
      "cell_type": "code",
      "source": [
        "clf = LogisticRegression(solver='liblinear', n_jobs=-1)\n",
        "clf.fit(X_train, Y_train)\n",
        "y_pred = clf.predict(X_test)\n",
        "report = classification_report(Y_test, y_pred,output_dict=True)"
      ],
      "metadata": {
        "id": "pFWMDv4jFZMP"
      },
      "execution_count": null,
      "outputs": []
    },
    {
      "cell_type": "code",
      "source": [
        "print(str(report['1']['precision'])+\",\"+str(report['1']['recall'])+\",\"+str(report['1']['f1-score']))\n",
        "print(str(report['2']['precision'])+\",\"+str(report['2']['recall'])+\",\"+str(report['2']['f1-score']))\n",
        "print(str(report['3']['precision'])+\",\"+str(report['3']['recall'])+\",\"+str(report['3']['f1-score']))\n",
        "print(str(report['weighted avg']['precision'])+\",\"+str(report['weighted avg']['recall'])+\",\"+str(report['weighted avg']['f1-score']))"
      ],
      "metadata": {
        "id": "4DuXRIdg1qf3"
      },
      "execution_count": null,
      "outputs": []
    },
    {
      "cell_type": "markdown",
      "metadata": {
        "id": "aG5YcCqkUBuJ"
      },
      "source": [
        "# Naive Bayes"
      ]
    },
    {
      "cell_type": "code",
      "execution_count": null,
      "metadata": {
        "id": "pPB_24rSUBuK"
      },
      "outputs": [],
      "source": [
        "from sklearn.naive_bayes import MultinomialNB\n",
        "gnb = MultinomialNB()"
      ]
    },
    {
      "cell_type": "code",
      "source": [
        "gnb.fit(X_train, Y_train)\n",
        "y_pred = gnb.predict(X_test)\n",
        "report = classification_report(Y_test, y_pred,output_dict=True)"
      ],
      "metadata": {
        "id": "IokoDijPFm48"
      },
      "execution_count": null,
      "outputs": []
    },
    {
      "cell_type": "code",
      "source": [
        "print(str(report['1']['precision'])+\",\"+str(report['1']['recall'])+\",\"+str(report['1']['f1-score']))\n",
        "print(str(report['2']['precision'])+\",\"+str(report['2']['recall'])+\",\"+str(report['2']['f1-score']))\n",
        "print(str(report['3']['precision'])+\",\"+str(report['3']['recall'])+\",\"+str(report['3']['f1-score']))\n",
        "print(str(report['weighted avg']['precision'])+\",\"+str(report['weighted avg']['recall'])+\",\"+str(report['weighted avg']['f1-score']))"
      ],
      "metadata": {
        "id": "FpNd4byY1rjY"
      },
      "execution_count": null,
      "outputs": []
    },
    {
      "cell_type": "code",
      "source": [],
      "metadata": {
        "id": "rRbbysOPqTho"
      },
      "execution_count": null,
      "outputs": []
    }
  ],
  "metadata": {
    "kernelspec": {
      "display_name": "Python 3",
      "language": "python",
      "name": "python3"
    },
    "language_info": {
      "codemirror_mode": {
        "name": "ipython",
        "version": 3
      },
      "file_extension": ".py",
      "mimetype": "text/x-python",
      "name": "python",
      "nbconvert_exporter": "python",
      "pygments_lexer": "ipython3",
      "version": "3.7.9"
    },
    "colab": {
      "provenance": [],
      "private_outputs": true
    },
    "gpuClass": "standard"
  },
  "nbformat": 4,
  "nbformat_minor": 0
}